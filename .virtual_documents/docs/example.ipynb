


import classifierpromax

print(classifierpromax.__version__)
