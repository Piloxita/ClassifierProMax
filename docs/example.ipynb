{
 "cells": [
  {
   "cell_type": "markdown",
   "metadata": {},
   "source": [
    "# Tutorial\n",
    "\n",
    "This tutorial provides an overview on how to use the `classifierpromax` library to train multiple classification models in parallel."
   ]
  },
  {
   "cell_type": "markdown",
   "metadata": {},
   "source": [
    "## Requirements\n",
    "The following libraries are needed to run `classifierpromax`. These dependencies should've been installed as part of the installation process. \n",
    "- `python` 3.12 or newer\n",
    "- `pandas` 2.2.3 or newer\n",
    "- `scikit-learn` 1.6.1 or newer"
   ]
  },
  {
   "cell_type": "markdown",
   "metadata": {},
   "source": [
    "## Dataset\n",
    "This tutorial will use a toy \"wine\" dataset from `scikit-learn` to perform classification. We will be performing a multi-class classification of wine based on wine attributes. The target classes are class_0, class_1 and class_2. We start by importing the dataset. \n",
    "\n",
    "Use `print(datasets.load_wine().DESCR)` for more information on the \"wine\" dataset"
   ]
  },
  {
   "cell_type": "code",
   "execution_count": null,
   "metadata": {},
   "outputs": [],
   "source": [
    "import pandas as pd\n",
    "from sklearn import datasets\n",
    "\n",
    "X = pd.DataFrame(datasets.load_wine().data)\n",
    "X.columns = datasets.load_wine().feature_names\n",
    "y = datasets.load_wine().target\n",
    "X.head()"
   ]
  },
  {
   "cell_type": "markdown",
   "metadata": {},
   "source": [
    "## Model Training\n",
    "\n",
    "Since all of the features are numerical, we will use a `StandardScaler` as a preprocessor for our models. "
   ]
  },
  {
   "cell_type": "code",
   "execution_count": null,
   "metadata": {},
   "outputs": [],
   "source": [
    "from sklearn.preprocessing import StandardScaler\n",
    "\n",
    "preprocessor = StandardScaler()"
   ]
  },
  {
   "cell_type": "markdown",
   "metadata": {},
   "source": [
    "Import `ClassifierTrainer` and build four baseline models: `DummyClassifier`, `LogisticRegression`, `SVC`, and `RandomForestClassifier` "
   ]
  },
  {
   "cell_type": "code",
   "execution_count": null,
   "metadata": {},
   "outputs": [],
   "source": [
    "from classifierpromax.ClassifierTrainer import ClassifierTrainer\n",
    "\n",
    "baseline_models, baseline_score = ClassifierTrainer(preprocessor, X, y, seed=123)"
   ]
  },
  {
   "cell_type": "markdown",
   "metadata": {},
   "source": [
    "## Feature Selection and Hyperparameter Optimization\n",
    "\n",
    "Perform feature selection on the model and then perform hyperparameter optimization. "
   ]
  },
  {
   "cell_type": "code",
   "execution_count": null,
   "metadata": {},
   "outputs": [],
   "source": [
    "from classifierpromax.ClassifierOptimizer import ClassifierOptimizer\n",
    "from classifierpromax.FeatureSelector import FeatureSelector\n",
    "\n",
    "fs_models = FeatureSelector(preprocessor, baseline_models, X, y, n_features_to_select=3)\n",
    "opt_models, opt_score = ClassifierOptimizer(fs_models, X, y)"
   ]
  },
  {
   "cell_type": "markdown",
   "metadata": {},
   "source": [
    "## Model Score"
   ]
  },
  {
   "cell_type": "code",
   "execution_count": null,
   "metadata": {},
   "outputs": [],
   "source": [
    "from classifierpromax.ResultHandler import ResultHandler"
   ]
  }
 ],
 "metadata": {
  "kernelspec": {
   "display_name": "Python 3 (ipykernel)",
   "language": "python",
   "name": "python3"
  },
  "language_info": {
   "codemirror_mode": {
    "name": "ipython",
    "version": 3
   },
   "file_extension": ".py",
   "mimetype": "text/x-python",
   "name": "python",
   "nbconvert_exporter": "python",
   "pygments_lexer": "ipython3",
   "version": "3.12.8"
  }
 },
 "nbformat": 4,
 "nbformat_minor": 4
}
