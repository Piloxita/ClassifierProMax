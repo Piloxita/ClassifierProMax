{
    "cells": [
        {
            "cell_type": "markdown",
            "metadata": {},
            "source": [
                "# Tutorial\n",
                "\n",
                "This tutorial provides an overview on how to use the `classifierpromax` library to train multiple classification models in parallel."
            ]
        },
        {
            "cell_type": "markdown",
            "metadata": {},
            "source": [
                "## Requirements\n",
                "The following libraries are needed to run `classifierpromax`. These dependencies should've been installed as part of the installation process. \n",
                "- Python 3.12 or newer\n",
                "- `pandas` 2.2.3 or newer\n",
                "- `scikit-learn` 1.6.1 or newer"
            ]
        },
        {
            "cell_type": "markdown",
            "metadata": {},
            "source": [
                "## Dataset\n",
                "This tutorial will use a toy \"wine\" dataset from `scikit-learn` to perform classification. We will be performing a multi-class classification of wine based on wine attributes. The target classes are class_0, class_1 and class_2. We start by importing the dataset. \n",
                "\n",
                "Use `print(datasets.load_wine().DESCR)` for more information on the \"wine\" dataset"
            ]
        },
        {
            "cell_type": "code",
            "execution_count": null,
            "metadata": {},
            "outputs": [],
            "source": [
                "import pandas as pd\n",
                "from sklearn import datasets\n",
                "\n",
                "X = pd.DataFrame(datasets.load_wine().data)\n",
                "X.columns = datasets.load_wine().feature_names\n",
                "y = datasets.load_wine().target\n",
                "X.head()"
            ]
        },
        {
            "cell_type": "markdown",
            "metadata": {},
            "source": [
                "## Model Training\n",
                "\n",
                "Since all of the features are numerical, we will use a `StandardScaler` as a preprocessor for our models. "
            ]
        },
        {
            "cell_type": "code",
            "execution_count": null,
            "metadata": {},
            "outputs": [],
            "source": [
                "from sklearn.preprocessing import StandardScaler\n",
                "\n",
                "preprocessor = StandardScaler()"
            ]
        },
        {
            "cell_type": "markdown",
            "metadata": {},
            "source": [
                "Import `Classifier_Trainer` and build baseline models."
            ]
        },
        {
            "cell_type": "code",
            "execution_count": null,
            "metadata": {},
            "outputs": [],
            "source": [
                "from classifierpromax.Classifier_Trainer import Classifier_Trainer\n",
                "\n",
                "baseline_models, baseline_score = Classifier_Trainer(preprocessor, X, y, pos_label=1, seed=123)"
            ]
        },
        {
            "cell_type": "markdown",
            "metadata": {},
            "source": [
                "## Feature Selection and Hyperparameter Optimization"
            ]
        },
        {
            "cell_type": "code",
            "execution_count": null,
            "metadata": {},
            "outputs": [],
            "source": [
                "from classifierpromax.Classifier_Optimizer import Classifier_Optimizer\n",
                "from classifierpromax.Feature_Selector import Feature_Selector\n",
                "\n",
                "fs_models = Feature_Selector(preprocessor, baseline_models, X, y, n_features_to_select=3)\n",
                "# opt_models, opt_score = Classifier_Optimizer(fs_models, X, y)"
            ]
        },
        {
            "cell_type": "markdown",
            "metadata": {},
            "source": [
                "## Model Score"
            ]
        },
        {
            "cell_type": "code",
            "execution_count": null,
            "metadata": {},
            "outputs": [],
            "source": [
                "from classifierpromax.Result_Handler import Result_Handler"
            ]
        }
    ],
    "metadata": {
        "kernelspec": {
            "display_name": "Python 3",
            "language": "python",
            "name": "python3"
        },
        "language_info": {
            "codemirror_mode": {
                "name": "ipython",
                "version": 3
            },
            "file_extension": ".py",
            "mimetype": "text/x-python",
            "name": "python",
            "nbconvert_exporter": "python",
            "pygments_lexer": "ipython3",
            "version": "3.8.5"
        }
    },
    "nbformat": 4,
    "nbformat_minor": 4
}
